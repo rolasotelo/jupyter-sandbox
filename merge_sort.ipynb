{
 "cells": [
  {
   "cell_type": "markdown",
   "metadata": {
    "pycharm": {
     "name": "#%% md\n"
    }
   },
   "source": [
    "# Merge sort\n",
    "## Divide and conquer approach\n",
    "The easiest way to illustrate this algorithm is by imagining having 2 decks pre sorted which we are now about to merge together."
   ]
  },
  {
   "cell_type": "markdown",
   "metadata": {
    "pycharm": {
     "name": "#%% md\n"
    }
   },
   "source": [
    "The key step in this divide and conquer approach to merge sort is the combine step, which is presented below:"
   ]
  },
  {
   "cell_type": "code",
   "execution_count": 25,
   "metadata": {
    "pycharm": {
     "name": "#%%\n"
    }
   },
   "outputs": [],
   "source": [
    "import math\n",
    "\n",
    "import numpy as np\n",
    "\n",
    "def merge(numbers_list: [int],start: int,division: int,end: int) -> [int]:\n",
    "    left = list(numbers_list[start:division+1])\n",
    "    left.append(np.inf)\n",
    "    right = list(numbers_list[division+1:end+1])\n",
    "    right.append(np.inf)\n",
    "    i,j = 0,0\n",
    "    for k in range(start,end+1):\n",
    "        if left[i] <= right[j]:\n",
    "            numbers_list[k] = left[i]\n",
    "            i = i+1\n",
    "        else:\n",
    "            numbers_list[k] = right[j]\n",
    "            j = j+1\n",
    "    return numbers_list"
   ]
  },
  {
   "cell_type": "code",
   "execution_count": 26,
   "metadata": {
    "pycharm": {
     "name": "#%%\n"
    }
   },
   "outputs": [],
   "source": [
    "tests = []"
   ]
  },
  {
   "cell_type": "code",
   "execution_count": 27,
   "metadata": {
    "pycharm": {
     "name": "#%%\n"
    }
   },
   "outputs": [],
   "source": [
    "# generic example\n",
    "tests.append({\n",
    "    'input': {\n",
    "        'numbers_list': [1,2,3,6,7,2,3,4,9],\n",
    "        'start': 0,\n",
    "        'division': 4,\n",
    "        'end': 8\n",
    "    },\n",
    "    'output': [1,2,2,3,3,4,6,7,9]\n",
    "})"
   ]
  },
  {
   "cell_type": "code",
   "execution_count": 28,
   "metadata": {
    "pycharm": {
     "name": "#%%\n"
    }
   },
   "outputs": [],
   "source": [
    "# example with negative numbers\n",
    "tests.append({\n",
    "    'input': {\n",
    "        'numbers_list': [-7,-2,1,3,6,-4,2,3,9],\n",
    "        'start': 0,\n",
    "        'division': 4,\n",
    "        'end': 8\n",
    "    },\n",
    "    'output': [-7,-4,-2,1,2,3,3,6,9]\n",
    "})"
   ]
  },
  {
   "cell_type": "code",
   "execution_count": 29,
   "metadata": {
    "pycharm": {
     "name": "#%%\n"
    }
   },
   "outputs": [],
   "source": [
    "# example with only two items in the list\n",
    "tests.append({\n",
    "    'input': {\n",
    "        'numbers_list': [-1,-3],\n",
    "        'start': 0,\n",
    "        'division': 0,\n",
    "        'end': 1\n",
    "    },\n",
    "    'output': [-3,-1]\n",
    "})"
   ]
  },
  {
   "cell_type": "markdown",
   "metadata": {
    "pycharm": {
     "name": "#%% md\n"
    }
   },
   "source": [
    "Test merge algorithm"
   ]
  },
  {
   "cell_type": "code",
   "execution_count": 30,
   "metadata": {
    "pycharm": {
     "name": "#%%\n"
    }
   },
   "outputs": [
    {
     "name": "stdout",
     "output_type": "stream",
     "text": [
      "True\n",
      "True\n",
      "True\n"
     ]
    }
   ],
   "source": [
    "for test in tests:\n",
    "    print(merge(**test['input']) == test['output'])"
   ]
  },
  {
   "cell_type": "markdown",
   "metadata": {
    "pycharm": {
     "name": "#%% md\n"
    }
   },
   "source": [
    "Now the rest of the algorithm is presented."
   ]
  },
  {
   "cell_type": "code",
   "execution_count": 31,
   "metadata": {
    "pycharm": {
     "name": "#%%\n"
    }
   },
   "outputs": [],
   "source": [
    "def merge_sort_divide_and_conquer(numbers_list: [int], start: int, end: int):\n",
    "    if start < end:\n",
    "        division = math.floor((start+end)/2)\n",
    "        merge_sort_divide_and_conquer(numbers_list,start,division)\n",
    "        merge_sort_divide_and_conquer(numbers_list,division+1,end)\n",
    "        merge(numbers_list,start,division,end)\n",
    "\n",
    "def merge_sort(numbers_list: [int]) -> [int]:\n",
    "    merge_sort_divide_and_conquer(numbers_list, 0, len(numbers_list)-1)\n",
    "    return numbers_list"
   ]
  },
  {
   "cell_type": "markdown",
   "source": [
    "Note that `start < end` is not fulfilled when the list provided is of length 1 or 0, so the recursion \"bottoms out\" when a list is divided into two lists of one single item each (each of which is already trivially sorted) which are then merged."
   ],
   "metadata": {
    "collapsed": false,
    "pycharm": {
     "name": "#%% md\n"
    }
   }
  },
  {
   "cell_type": "code",
   "execution_count": 32,
   "metadata": {
    "pycharm": {
     "name": "#%%\n"
    }
   },
   "outputs": [],
   "source": [
    "tests_for_merge_sort = []"
   ]
  },
  {
   "cell_type": "code",
   "execution_count": 33,
   "metadata": {
    "pycharm": {
     "name": "#%%\n"
    }
   },
   "outputs": [],
   "source": [
    "# generic example\n",
    "tests_for_merge_sort.append({\n",
    "    'input': {\n",
    "        'numbers_list': [1,2,9,6,7,2,0,4],\n",
    "    },\n",
    "    'output': [0,1,2,2,4,6,7,9]\n",
    "})"
   ]
  },
  {
   "cell_type": "code",
   "execution_count": 34,
   "metadata": {
    "pycharm": {
     "name": "#%%\n"
    }
   },
   "outputs": [],
   "source": [
    "# example with negative numbers\n",
    "tests_for_merge_sort.append({\n",
    "    'input': {\n",
    "        'numbers_list': [1,2,-9,6,7,2,0,-4],\n",
    "    },\n",
    "    'output': [-9,-4,0,1,2,2,6,7]\n",
    "})"
   ]
  },
  {
   "cell_type": "code",
   "execution_count": 35,
   "metadata": {
    "pycharm": {
     "name": "#%%\n"
    }
   },
   "outputs": [],
   "source": [
    "# example with odd number of items\n",
    "tests_for_merge_sort.append({\n",
    "    'input': {\n",
    "        'numbers_list': [1,2,-1,9,6,7,2,0,4],\n",
    "    },\n",
    "    'output': [-1,0,1,2,2,4,6,7,9]\n",
    "})"
   ]
  },
  {
   "cell_type": "code",
   "execution_count": 36,
   "metadata": {
    "pycharm": {
     "name": "#%%\n"
    }
   },
   "outputs": [],
   "source": [
    "# example with 1 item\n",
    "tests_for_merge_sort.append({\n",
    "    'input': {\n",
    "        'numbers_list': [1],\n",
    "    },\n",
    "    'output': [1]\n",
    "})"
   ]
  },
  {
   "cell_type": "code",
   "execution_count": 37,
   "metadata": {
    "pycharm": {
     "name": "#%%\n"
    }
   },
   "outputs": [],
   "source": [
    "# example with 0 items\n",
    "tests_for_merge_sort.append({\n",
    "    'input': {\n",
    "        'numbers_list': [],\n",
    "    },\n",
    "    'output': []\n",
    "})"
   ]
  },
  {
   "cell_type": "code",
   "execution_count": 38,
   "metadata": {
    "pycharm": {
     "name": "#%%\n"
    }
   },
   "outputs": [
    {
     "name": "stdout",
     "output_type": "stream",
     "text": [
      "True\n",
      "True\n",
      "True\n",
      "True\n",
      "True\n"
     ]
    }
   ],
   "source": [
    "for test in tests_for_merge_sort:\n",
    "    print(merge_sort(**test['input']) == test['output'])"
   ]
  },
  {
   "cell_type": "code",
   "execution_count": 38,
   "metadata": {
    "pycharm": {
     "name": "#%%\n"
    }
   },
   "outputs": [],
   "source": []
  }
 ],
 "metadata": {
  "kernelspec": {
   "display_name": "Python 3 (ipykernel)",
   "language": "python",
   "name": "python3"
  },
  "language_info": {
   "codemirror_mode": {
    "name": "ipython",
    "version": 3
   },
   "file_extension": ".py",
   "mimetype": "text/x-python",
   "name": "python",
   "nbconvert_exporter": "python",
   "pygments_lexer": "ipython3",
   "version": "3.9.12"
  }
 },
 "nbformat": 4,
 "nbformat_minor": 1
}