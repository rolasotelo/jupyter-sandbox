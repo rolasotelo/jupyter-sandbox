{
 "cells": [
  {
   "cell_type": "markdown",
   "metadata": {
    "pycharm": {
     "name": "#%% md\n"
    }
   },
   "source": [
    "## Insertion sort\n",
    "#### Incremental approach\n",
    "The easiest way to illustrate this algorithm is by imagining how one would sort a set of cards in hand. By starting to sort from left to right, at  any given step, all cards at the left are already sorted."
   ]
  },
  {
   "cell_type": "code",
   "execution_count": 3,
   "metadata": {
    "pycharm": {
     "name": "#%%\n"
    }
   },
   "outputs": [],
   "source": [
    "def insertion_sort_incremental(numbers_list: [int]) -> [int]:\n",
    "    for j in range(1, len(numbers_list)):\n",
    "        key = numbers_list[j]\n",
    "        i = j - 1\n",
    "        while i >= 0 and numbers_list[i] > key:\n",
    "            numbers_list[i + 1] = numbers_list[i]\n",
    "            i = i - 1\n",
    "        numbers_list[i + 1] = key\n",
    "    return numbers_list"
   ]
  },
  {
   "cell_type": "markdown",
   "source": [
    "Tests to validate the algorithm:"
   ],
   "metadata": {
    "collapsed": false,
    "pycharm": {
     "name": "#%% md\n"
    }
   }
  },
  {
   "cell_type": "code",
   "execution_count": 15,
   "outputs": [],
   "source": [
    "tests = []"
   ],
   "metadata": {
    "collapsed": false,
    "pycharm": {
     "name": "#%%\n"
    }
   }
  },
  {
   "cell_type": "code",
   "execution_count": 16,
   "metadata": {
    "pycharm": {
     "name": "#%%\n"
    }
   },
   "outputs": [],
   "source": [
    "# all positive numbers\n",
    "tests.append( {\n",
    "    'input': {\n",
    "        'numbers_list': [13,20,5,4,6,33,0,1,3,8,8],\n",
    "    },\n",
    "    'output': [0,1,3,4,5,6,8,8,13,20,33]\n",
    "})"
   ]
  },
  {
   "cell_type": "code",
   "execution_count": 17,
   "outputs": [],
   "source": [
    "# empty list\n",
    "tests.append( {\n",
    "    'input': {\n",
    "        'numbers_list': [],\n",
    "    },\n",
    "    'output': []\n",
    "})"
   ],
   "metadata": {
    "collapsed": false,
    "pycharm": {
     "name": "#%%\n"
    }
   }
  },
  {
   "cell_type": "code",
   "execution_count": 18,
   "outputs": [],
   "source": [
    "# 1 item list\n",
    "tests.append( {\n",
    "    'input': {\n",
    "        'numbers_list': [2],\n",
    "    },\n",
    "    'output': [2]\n",
    "})"
   ],
   "metadata": {
    "collapsed": false,
    "pycharm": {
     "name": "#%%\n"
    }
   }
  },
  {
   "cell_type": "code",
   "execution_count": 19,
   "outputs": [],
   "source": [
    "# positive and negative numbers\n",
    "tests.append( {\n",
    "    'input': {\n",
    "        'numbers_list': [13,20,5,4,6,-33,0,-1,3,8,-8],\n",
    "    },\n",
    "    'output': [-33,-8,-1,0,3,4,5,6,8,13,20]\n",
    "})"
   ],
   "metadata": {
    "collapsed": false,
    "pycharm": {
     "name": "#%%\n"
    }
   }
  },
  {
   "cell_type": "code",
   "execution_count": 20,
   "outputs": [],
   "source": [
    "# repeating number\n",
    "tests.append( {\n",
    "    'input': {\n",
    "        'numbers_list': [1,1,1,1,1],\n",
    "    },\n",
    "    'output': [1,1,1,1,1]\n",
    "})"
   ],
   "metadata": {
    "collapsed": false,
    "pycharm": {
     "name": "#%%\n"
    }
   }
  },
  {
   "cell_type": "markdown",
   "source": [
    "The algorithm is now tested:"
   ],
   "metadata": {
    "collapsed": false,
    "pycharm": {
     "name": "#%% md\n"
    }
   }
  },
  {
   "cell_type": "code",
   "execution_count": 23,
   "outputs": [
    {
     "name": "stdout",
     "output_type": "stream",
     "text": [
      "True\n",
      "True\n",
      "True\n",
      "True\n",
      "True\n"
     ]
    }
   ],
   "source": [
    "for test in tests:\n",
    "    print(insertion_sort_incremental(**test['input']) == test['output'])"
   ],
   "metadata": {
    "collapsed": false,
    "pycharm": {
     "name": "#%%\n"
    }
   }
  }
 ],
 "metadata": {
  "kernelspec": {
   "display_name": "Python 3 (ipykernel)",
   "language": "python",
   "name": "python3"
  },
  "language_info": {
   "codemirror_mode": {
    "name": "ipython",
    "version": 3
   },
   "file_extension": ".py",
   "mimetype": "text/x-python",
   "name": "python",
   "nbconvert_exporter": "python",
   "pygments_lexer": "ipython3",
   "version": "3.9.12"
  }
 },
 "nbformat": 4,
 "nbformat_minor": 1
}